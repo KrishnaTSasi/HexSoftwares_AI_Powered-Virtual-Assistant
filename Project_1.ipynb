{
  "nbformat": 4,
  "nbformat_minor": 0,
  "metadata": {
    "colab": {
      "provenance": [],
      "authorship_tag": "ABX9TyNEZn9dpP8TrtQOIABa/whg",
      "include_colab_link": true
    },
    "kernelspec": {
      "name": "python3",
      "display_name": "Python 3"
    },
    "language_info": {
      "name": "python"
    }
  },
  "cells": [
    {
      "cell_type": "markdown",
      "metadata": {
        "id": "view-in-github",
        "colab_type": "text"
      },
      "source": [
        "<a href=\"https://colab.research.google.com/github/KrishnaTSasi/HexSoftwares_AI_Powered-Virtual-Assistant/blob/main/Project_1.ipynb\" target=\"_parent\"><img src=\"https://colab.research.google.com/assets/colab-badge.svg\" alt=\"Open In Colab\"/></a>"
      ]
    },
    {
      "cell_type": "markdown",
      "source": [
        "AI-Powered Virtual Assistant"
      ],
      "metadata": {
        "id": "69BMxKs4ft4S"
      }
    },
    {
      "cell_type": "code",
      "source": [
        "!pip install openai"
      ],
      "metadata": {
        "colab": {
          "base_uri": "https://localhost:8080/"
        },
        "id": "ZsGBX0PVlbws",
        "outputId": "c506f7bc-eaba-4618-e5dc-4cd5281d05ff"
      },
      "execution_count": 15,
      "outputs": [
        {
          "output_type": "stream",
          "name": "stdout",
          "text": [
            "Requirement already satisfied: openai in /usr/local/lib/python3.11/dist-packages (1.97.1)\n",
            "Requirement already satisfied: anyio<5,>=3.5.0 in /usr/local/lib/python3.11/dist-packages (from openai) (4.9.0)\n",
            "Requirement already satisfied: distro<2,>=1.7.0 in /usr/local/lib/python3.11/dist-packages (from openai) (1.9.0)\n",
            "Requirement already satisfied: httpx<1,>=0.23.0 in /usr/local/lib/python3.11/dist-packages (from openai) (0.28.1)\n",
            "Requirement already satisfied: jiter<1,>=0.4.0 in /usr/local/lib/python3.11/dist-packages (from openai) (0.10.0)\n",
            "Requirement already satisfied: pydantic<3,>=1.9.0 in /usr/local/lib/python3.11/dist-packages (from openai) (2.11.7)\n",
            "Requirement already satisfied: sniffio in /usr/local/lib/python3.11/dist-packages (from openai) (1.3.1)\n",
            "Requirement already satisfied: tqdm>4 in /usr/local/lib/python3.11/dist-packages (from openai) (4.67.1)\n",
            "Requirement already satisfied: typing-extensions<5,>=4.11 in /usr/local/lib/python3.11/dist-packages (from openai) (4.14.1)\n",
            "Requirement already satisfied: idna>=2.8 in /usr/local/lib/python3.11/dist-packages (from anyio<5,>=3.5.0->openai) (3.10)\n",
            "Requirement already satisfied: certifi in /usr/local/lib/python3.11/dist-packages (from httpx<1,>=0.23.0->openai) (2025.7.14)\n",
            "Requirement already satisfied: httpcore==1.* in /usr/local/lib/python3.11/dist-packages (from httpx<1,>=0.23.0->openai) (1.0.9)\n",
            "Requirement already satisfied: h11>=0.16 in /usr/local/lib/python3.11/dist-packages (from httpcore==1.*->httpx<1,>=0.23.0->openai) (0.16.0)\n",
            "Requirement already satisfied: annotated-types>=0.6.0 in /usr/local/lib/python3.11/dist-packages (from pydantic<3,>=1.9.0->openai) (0.7.0)\n",
            "Requirement already satisfied: pydantic-core==2.33.2 in /usr/local/lib/python3.11/dist-packages (from pydantic<3,>=1.9.0->openai) (2.33.2)\n",
            "Requirement already satisfied: typing-inspection>=0.4.0 in /usr/local/lib/python3.11/dist-packages (from pydantic<3,>=1.9.0->openai) (0.4.1)\n"
          ]
        }
      ]
    },
    {
      "cell_type": "code",
      "source": [
        "import datetime\n",
        "import json\n",
        "import os\n",
        "\n",
        "import openai\n",
        "openai.api_key = \"My_API_KEY\"\n",
        "\n",
        "# Store user data\n",
        "user_data = {}\n",
        "\n",
        "def greet_user():\n",
        "    current_hour = datetime.datetime.now().hour\n",
        "    if 5 <= current_hour < 12:\n",
        "        return \"Good morning!\"\n",
        "    elif 12 <= current_hour < 17:\n",
        "        return \"Good afternoon!\"\n",
        "    elif 17 <= current_hour < 21:\n",
        "        return \"Good evening!\"\n",
        "    else:\n",
        "        return \"Hello!\"\n",
        "\n",
        "def tell_time():\n",
        "    now = datetime.datetime.now()\n",
        "    return f\"The current time is {now.strftime('%I:%M %p')}.\"\n",
        "\n",
        "def set_reminder(task, time_str):\n",
        "    reminder = {\"task\": task, \"time\": time_str}\n",
        "    with open(\"reminders.json\", \"a\") as file:\n",
        "        file.write(json.dumps(reminder) + \"\\n\")\n",
        "    return f\"Reminder set for '{task}' at {time_str}.\"\n",
        "\n",
        "def read_reminders():\n",
        "    if not os.path.exists(\"reminders.json\"):\n",
        "        return \"I have no reminders.\"\n",
        "    with open(\"reminders.json\", \"r\") as file:\n",
        "        reminders = [json.loads(line.strip()) for line in file.readlines()]\n",
        "    return reminders if reminders else \"I have no reminders.\"\n",
        "\n",
        "def ask_openai(question):\n",
        "    try:\n",
        "        response = openai.ChatCompletion.create(\n",
        "            model=\"gpt-3.5-turbo\",\n",
        "            messages=[{\"role\": \"user\", \"content\": question}]\n",
        "        )\n",
        "        return response['choices'][0]['message']['content'].strip()\n",
        "    except Exception as e:\n",
        "        return f\"Sorry, I couldn't connect to the AI service. Error: {e}\"\n",
        "\n",
        "def handle_input(user_input):\n",
        "    user_input = user_input.lower()\n",
        "\n",
        "    if \"hello\" in user_input or \"hi\" in user_input:\n",
        "        return greet_user()\n",
        "    elif \"time\" in user_input:\n",
        "        return tell_time()\n",
        "    elif \"reminder\" in user_input and \"set\" in user_input:\n",
        "        task = input(\"What should I remind you about? \")\n",
        "        time_str = input(\"When? (e.g., 5:00 PM) \")\n",
        "        return set_reminder(task, time_str)\n",
        "    elif \"show\" in user_input and \"reminder\" in user_input:\n",
        "        reminders = read_reminders()\n",
        "        return \"\\n\".join([f\"{r['task']} at {r['time']}\" for r in reminders]) if isinstance(reminders, list) else reminders\n",
        "    elif \"exit\" in user_input or \"bye\" in user_input:\n",
        "        return \"Good Bye! Have a great day!\"\n",
        "    else:\n",
        "        return ask_openai(user_input)\n",
        "\n",
        "# Main assistant loop\n",
        "def virtual_assistant():\n",
        "    print(\"AI Virtual Assistant Ready. Type 'exit' to quit.\")\n",
        "    while True:\n",
        "        user_input = input(\"You: \")\n",
        "        response = handle_input(user_input)\n",
        "        print(\"Assistant:\", response)\n",
        "        if \"Goodbye\" in response:\n",
        "            break\n",
        "\n",
        "virtual_assistant()"
      ],
      "metadata": {
        "colab": {
          "base_uri": "https://localhost:8080/"
        },
        "id": "RuPwSE4_fxQg",
        "outputId": "46711302-df60-439e-db5b-a2e9e4f93f7c"
      },
      "execution_count": null,
      "outputs": [
        {
          "output_type": "stream",
          "name": "stdout",
          "text": [
            "AI Virtual Assistant Ready. Type 'exit' to quit.\n",
            "You: Exit\n",
            "Assistant: Good Bye! Have a great day!\n"
          ]
        }
      ]
    }
  ]
}